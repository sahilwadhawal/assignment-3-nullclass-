{
 "cells": [
  {
   "cell_type": "code",
   "execution_count": 1,
   "metadata": {},
   "outputs": [],
   "source": [
    "# Define file paths\n",
    "french_file_path = r\"C:\Nullclass\Machine_Translation-main\Machine_Translation-main\Datas\data3\french.txt",
    "tamil_file_path = r\"C:\Nullclass\Machine_Translation-main\Machine_Translation-main\Datas\data3\tamil.txt",
    "\n",
    "# Create empty lists for filtered words\n",
    "french_words_filtered = []\n",
    "tamil_words_filtered = []\n",
    "\n",
    "# Load French words from the file\n",
    "with open(french_file_path, 'r', encoding='utf-8') as french_file:\n",
    "    french_lines = french_file.readlines()\n",
    "\n",
    "# Load Tamil words from the file\n",
    "with open(tamil_file_path, 'r', encoding='utf-8') as tamil_file:\n",
    "    tamil_lines = tamil_file.readlines()\n",
    "\n",
    "# Check if both files have the same number of lines\n",
    "if len(french_lines) != len(tamil_lines):\n",
    "    raise ValueError(\"The French and Tamil files do not have the same number of lines.\")\n",
    "\n",
    "# Process lines and ensure they match\n",
    "for french_word, tamil_word in zip(french_lines, tamil_lines):\n",
    "    # Strip whitespace and ensure non-empty lines\n",
    "    french_word = french_word.strip()\n",
    "    tamil_word = tamil_word.strip()\n",
    "    if french_word and tamil_word and len(french_word) == 5:\n",
    "        french_words_filtered.append(french_word)\n",
    "        tamil_words_filtered.append(tamil_word)\n",
    "\n",
    "# Create word-to-index and index-to-word dictionaries\n",
    "french_to_tamil = {french_words_filtered[i]: tamil_words_filtered[i] for i in range(len(french_words_filtered))}\n",
    "\n",
    "# Translation function\n",
    "def translate(input_word):\n",
    "    if len(input_word) != 5:\n",
    "        return \"Input word must have exactly five letters.\"\n",
    "    \n",
    "    translated_word = french_to_tamil.get(input_word, \"Word not found in the dictionary.\")\n",
    "    return translated_word"
   ]
  },
  {
   "cell_type": "code",
   "execution_count": 2,
   "metadata": {},
   "outputs": [
    {
     "name": "stdout",
     "output_type": "stream",
     "text": [
      "Translation of 'Morte' in Tamil: இறந்த\n",
      "Translation of 'chat' in Tamil: Input word must have exactly five letters.\n",
      "Translation of 'hello' in Tamil: Word not found in the dictionary.\n"
     ]
    }
   ],
   "source": [
    "# Example usage:\n",
    "input_word = \"Morte\"\n",
    "translated_word = translate(input_word)\n",
    "print(f\"Translation of '{input_word}' in Tamil: {translated_word}\")\n",
    "\n",
    "# Test with a word that does not have exactly five letters\n",
    "input_word = \"chat\"\n",
    "translated_word = translate(input_word)\n",
    "print(f\"Translation of '{input_word}' in Tamil: {translated_word}\")\n",
    "\n",
    "# Test with a word that is not in the dictionary\n",
    "input_word = \"hello\"\n",
    "translated_word = translate(input_word)\n",
    "print(f\"Translation of '{input_word}' in Tamil: {translated_word}\")"
   ]
  }
 ],
 "metadata": {
  "kernelspec": {
   "display_name": "nullclass1",
   "language": "python",
   "name": "python3"
  },
  "language_info": {
   "codemirror_mode": {
    "name": "ipython",
    "version": 3
   },
   "file_extension": ".py",
   "mimetype": "text/x-python",
   "name": "python",
   "nbconvert_exporter": "python",
   "pygments_lexer": "ipython3",
   "version": "3.9.18"
  }
 },
 "nbformat": 4,
 "nbformat_minor": 2
}
